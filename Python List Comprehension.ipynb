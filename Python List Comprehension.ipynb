{
 "cells": [
  {
   "cell_type": "markdown",
   "id": "5dd48bb1",
   "metadata": {},
   "source": [
    "# Examples of List Comprehensions"
   ]
  },
  {
   "cell_type": "code",
   "execution_count": 12,
   "id": "ac843d01",
   "metadata": {},
   "outputs": [],
   "source": [
    "numbers = [0, 1, 2, 3, 4, 5]\n",
    "names = [\"alex\", \"Beth\", \"Caroline\", \"Dave\", \"Freddie\"]"
   ]
  },
  {
   "cell_type": "code",
   "execution_count": 5,
   "id": "353cc49f",
   "metadata": {},
   "outputs": [
    {
     "data": {
      "text/plain": [
       "[1, 2, 3, 4, 5, 6]"
      ]
     },
     "execution_count": 5,
     "metadata": {},
     "output_type": "execute_result"
    }
   ],
   "source": [
    "add_one = [1 + _ for _ in numbers]\n",
    "add_one"
   ]
  },
  {
   "cell_type": "code",
   "execution_count": 6,
   "id": "05b34de5",
   "metadata": {},
   "outputs": [
    {
     "data": {
      "text/plain": [
       "[0, 1, 4, 9, 16, 25]"
      ]
     },
     "execution_count": 6,
     "metadata": {},
     "output_type": "execute_result"
    }
   ],
   "source": [
    "squared_numbers = [number**2 for number in numbers]\n",
    "squared_numbers"
   ]
  },
  {
   "cell_type": "code",
   "execution_count": 10,
   "id": "01810e10",
   "metadata": {},
   "outputs": [
    {
     "data": {
      "text/plain": [
       "[1, 2, 3, 4, 5, 6, 7, 8, 9]"
      ]
     },
     "execution_count": 10,
     "metadata": {},
     "output_type": "execute_result"
    }
   ],
   "source": [
    "range_list = [num for num in range(1,10)]\n",
    "range_list"
   ]
  },
  {
   "cell_type": "code",
   "execution_count": 11,
   "id": "d0f1cace",
   "metadata": {},
   "outputs": [
    {
     "name": "stdout",
     "output_type": "stream",
     "text": [
      "[2, 4, 6, 8]\n"
     ]
    }
   ],
   "source": [
    "new_range_list = [n * 2 for n in range (1,5)]\n",
    "print(new_range_list)"
   ]
  },
  {
   "cell_type": "code",
   "execution_count": 13,
   "id": "e4aa8d90",
   "metadata": {},
   "outputs": [
    {
     "data": {
      "text/plain": [
       "['alex', 'Beth', 'Dave']"
      ]
     },
     "execution_count": 13,
     "metadata": {},
     "output_type": "execute_result"
    }
   ],
   "source": [
    "short_names = [name for name in names if len(name) <= 4]\n",
    "short_names"
   ]
  },
  {
   "cell_type": "code",
   "execution_count": 15,
   "id": "a99b1593",
   "metadata": {},
   "outputs": [
    {
     "data": {
      "text/plain": [
       "['Caroline', 'Freddie']"
      ]
     },
     "execution_count": 15,
     "metadata": {},
     "output_type": "execute_result"
    }
   ],
   "source": [
    "long_names = [name for name in names if len(name) > 4]\n",
    "long_names"
   ]
  },
  {
   "cell_type": "code",
   "execution_count": 17,
   "id": "eb3c8aa0",
   "metadata": {},
   "outputs": [
    {
     "data": {
      "text/plain": [
       "['CAROLINE', 'FREDDIE']"
      ]
     },
     "execution_count": 17,
     "metadata": {},
     "output_type": "execute_result"
    }
   ],
   "source": [
    "long_names_upper_case = [name.upper() for name in names if len(name) > 4]\n",
    "long_names_upper_case"
   ]
  },
  {
   "cell_type": "code",
   "execution_count": 18,
   "id": "7efbe65a",
   "metadata": {},
   "outputs": [
    {
     "data": {
      "text/plain": [
       "[0, 2, 4]"
      ]
     },
     "execution_count": 18,
     "metadata": {},
     "output_type": "execute_result"
    }
   ],
   "source": [
    "even_numbers = [number for number in numbers if number % 2 == 0]\n",
    "even_numbers"
   ]
  }
 ],
 "metadata": {
  "kernelspec": {
   "display_name": "Python 3 (ipykernel)",
   "language": "python",
   "name": "python3"
  },
  "language_info": {
   "codemirror_mode": {
    "name": "ipython",
    "version": 3
   },
   "file_extension": ".py",
   "mimetype": "text/x-python",
   "name": "python",
   "nbconvert_exporter": "python",
   "pygments_lexer": "ipython3",
   "version": "3.9.7"
  }
 },
 "nbformat": 4,
 "nbformat_minor": 5
}
